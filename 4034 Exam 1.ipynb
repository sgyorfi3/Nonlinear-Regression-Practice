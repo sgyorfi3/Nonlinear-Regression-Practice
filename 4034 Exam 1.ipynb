{
 "cells": [
  {
   "cell_type": "code",
   "execution_count": 23,
   "metadata": {},
   "outputs": [
    {
     "name": "stdout",
     "output_type": "stream",
     "text": [
      "[22.16704246 -0.09409052] [[ 4.9120985  -1.42749806]\n",
      " [-1.42749806  0.42897551]]\n"
     ]
    }
   ],
   "source": [
    "# Problem 1, Running Nonliner Regression\n",
    "from scipy.optimize import curve_fit\n",
    "import numpy as np\n",
    "import matplotlib.pyplot as py\n",
    "\n",
    "\n",
    "df = pd.read_csv(r'C:\\Users\\Dr Tibor Gyorfi\\Documents\\My Folder\\School\\College\\Senior Year\\ISYE 4034\\MyData.csv')\n",
    "\n",
    "x = df[\"lstat\"]\n",
    "y = df[\"medv\"]\n",
    "\n",
    "InitialParams = [50,(2*np.log(2))/50]\n",
    "\n",
    "def exp(x,B0,B1):\n",
    "    return B0 + np.exp(B1*x)\n",
    "\n",
    "popt,pcov  = curve_fit(exp,x,y)\n",
    "\n",
    "print(popt,pcov)"
   ]
  },
  {
   "cell_type": "code",
   "execution_count": 31,
   "metadata": {},
   "outputs": [
    {
     "name": "stdout",
     "output_type": "stream",
     "text": [
      "                 Generalized Linear Model Regression Results                  \n",
      "==============================================================================\n",
      "Dep. Variable:                balance   No. Observations:                10000\n",
      "Model:                            GLM   Df Residuals:                     9999\n",
      "Model Family:                Binomial   Df Model:                            0\n",
      "Link Function:                  logit   Scale:                          1.0000\n",
      "Method:                          IRLS   Log-Likelihood:                    nan\n",
      "Date:                Fri, 05 Mar 2021   Deviance:                          inf\n",
      "Time:                        15:05:29   Pearson chi2:                 4.19e+25\n",
      "No. Iterations:                     2                                         \n",
      "Covariance Type:            nonrobust                                         \n",
      "==============================================================================\n",
      "                 coef    std err          z      P>|z|      [0.025      0.975]\n",
      "------------------------------------------------------------------------------\n",
      "default     3.655e+18    6.4e+05   5.71e+12      0.000    3.65e+18    3.65e+18\n",
      "==============================================================================\n"
     ]
    },
    {
     "name": "stderr",
     "output_type": "stream",
     "text": [
      "C:\\Users\\Dr Tibor Gyorfi\\Anaconda3\\lib\\site-packages\\statsmodels\\genmod\\families\\family.py:890: RuntimeWarning: divide by zero encountered in true_divide\n",
      "  n_endog_mu = self._clean((1. - endog) / (1. - mu))\n",
      "C:\\Users\\Dr Tibor Gyorfi\\Anaconda3\\lib\\site-packages\\statsmodels\\genmod\\families\\family.py:942: RuntimeWarning: divide by zero encountered in true_divide\n",
      "  special.gammaln(n - y + 1) + y * np.log(mu / (1 - mu)) +\n",
      "C:\\Users\\Dr Tibor Gyorfi\\Anaconda3\\lib\\site-packages\\statsmodels\\genmod\\families\\family.py:942: RuntimeWarning: invalid value encountered in multiply\n",
      "  special.gammaln(n - y + 1) + y * np.log(mu / (1 - mu)) +\n",
      "C:\\Users\\Dr Tibor Gyorfi\\Anaconda3\\lib\\site-packages\\statsmodels\\genmod\\families\\family.py:943: RuntimeWarning: divide by zero encountered in log\n",
      "  n * np.log(1 - mu)) * var_weights\n",
      "C:\\Users\\Dr Tibor Gyorfi\\Anaconda3\\lib\\site-packages\\statsmodels\\genmod\\families\\family.py:943: RuntimeWarning: invalid value encountered in add\n",
      "  n * np.log(1 - mu)) * var_weights\n"
     ]
    }
   ],
   "source": [
    "# Problem 1, Running Logistic Regression\n",
    "import statsmodels.api as sm\n",
    "\n",
    "df = pd.read_csv(r'C:\\Users\\Dr Tibor Gyorfi\\Documents\\My Folder\\School\\College\\Senior Year\\ISYE 4034\\MyData2.csv')\n",
    "\n",
    "x = df[\"default\"]\n",
    "y = df[\"balance\"]\n",
    "\n",
    "binomial_model = sm.GLM(y,x, family = sm.families.Binomial())\n",
    "binomial_results = binomial_model.fit()\n",
    "print(binomial_results.summary())"
   ]
  },
  {
   "cell_type": "code",
   "execution_count": 1,
   "metadata": {},
   "outputs": [],
   "source": [
    "# Problem 3, Finding Gause-Newton Estimates Manually\n",
    "import pandas as pd\n",
    "import numpy as np\n",
    "\n",
    "df = pd.read_csv(r'C:\\Users\\Dr Tibor Gyorfi\\Documents\\My Folder\\School\\College\\Senior Year\\ISYE 4034\\MyData.csv')\n",
    "\n"
   ]
  },
  {
   "cell_type": "code",
   "execution_count": 13,
   "metadata": {},
   "outputs": [],
   "source": [
    "# Problem 5, Optimizing Nonlinear Model\n",
    "\n",
    "import pandas as pd\n",
    "import numpy as np\n",
    "from scipy.optimize import minimize\n",
    "\n",
    "def objective(z): # Objective Function\n",
    "    x = z[0]\n",
    "    y = z[1]\n",
    "    return (5*x)*(6*y)\n",
    "    \n",
    "def constraint1(z): # My one constraint\n",
    "    return -z[1] + 100 -(2 * z[0])\n",
    "\n",
    "b0 = [10.0,25.0]  # My bounds for the variable X\n",
    "b1 = [5.0,80.0]   # My bounds for the variable Y\n",
    "bnds = (b0,b1)\n",
    "\n",
    "con1 = {\"type\":\"ineq\",\"fun\": constraint1}  # Packaging the Constraint for the Function\n",
    "cons = [con1]\n",
    "\n",
    "x0 = [14,9]  # My Initial Guess of the Optimal Solution\n",
    "\n",
    "# Optimizing the Function\n",
    "sol = minimize(objective, x0, method =\"SLSQP\", bounds = bnds,constraints = cons)  \n",
    "\n"
   ]
  },
  {
   "cell_type": "code",
   "execution_count": 17,
   "metadata": {},
   "outputs": [
    {
     "name": "stdout",
     "output_type": "stream",
     "text": [
      "     fun: 1500.0\n",
      "     jac: array([150., 300.])\n",
      " message: 'Optimization terminated successfully.'\n",
      "    nfev: 8\n",
      "     nit: 2\n",
      "    njev: 2\n",
      "  status: 0\n",
      " success: True\n",
      "       x: array([10.,  5.])\n"
     ]
    }
   ],
   "source": [
    "print(sol)"
   ]
  },
  {
   "cell_type": "code",
   "execution_count": null,
   "metadata": {},
   "outputs": [],
   "source": []
  }
 ],
 "metadata": {
  "kernelspec": {
   "display_name": "Python 3",
   "language": "python",
   "name": "python3"
  },
  "language_info": {
   "codemirror_mode": {
    "name": "ipython",
    "version": 3
   },
   "file_extension": ".py",
   "mimetype": "text/x-python",
   "name": "python",
   "nbconvert_exporter": "python",
   "pygments_lexer": "ipython3",
   "version": "3.7.4"
  }
 },
 "nbformat": 4,
 "nbformat_minor": 2
}
